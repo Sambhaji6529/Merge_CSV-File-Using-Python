{
  "nbformat": 4,
  "nbformat_minor": 0,
  "metadata": {
    "colab": {
      "provenance": [],
      "mount_file_id": "1aIzLafcAZinrJMlfKFFyrvLPtO0IYj4G",
      "authorship_tag": "ABX9TyO8A5WpPZuI/THzSEQfw7QL",
      "include_colab_link": true
    },
    "kernelspec": {
      "name": "python3",
      "display_name": "Python 3"
    },
    "language_info": {
      "name": "python"
    }
  },
  "cells": [
    {
      "cell_type": "markdown",
      "metadata": {
        "id": "view-in-github",
        "colab_type": "text"
      },
      "source": [
        "<a href=\"https://colab.research.google.com/github/Sambhaji6529/Merge_CSV-File-Using-Python/blob/main/Merge_Excel_(CSV)_File.ipynb\" target=\"_parent\"><img src=\"https://colab.research.google.com/assets/colab-badge.svg\" alt=\"Open In Colab\"/></a>"
      ]
    },
    {
      "cell_type": "markdown",
      "source": [
        "# **Merge CSV Files**"
      ],
      "metadata": {
        "id": "gbWchGzFVxI-"
      }
    },
    {
      "cell_type": "markdown",
      "source": [
        "**Setup Environment**"
      ],
      "metadata": {
        "id": "ss3U0UKoV2ub"
      }
    },
    {
      "cell_type": "code",
      "execution_count": 1,
      "metadata": {
        "id": "tJX-J3HS_91f",
        "colab": {
          "base_uri": "https://localhost:8080/"
        },
        "outputId": "ad46c3b2-9581-40b2-d8ce-154aac960151"
      },
      "outputs": [
        {
          "output_type": "stream",
          "name": "stdout",
          "text": [
            "/content/drive/MyDrive\n"
          ]
        }
      ],
      "source": [
        "# Set Working Directory - if working on Google Drive\n",
        "%cd /content/drive/MyDrive/\n",
        "\n",
        "# # Set Working Directory - if working on Local Machine\n",
        "# import os\n",
        "# os.chdir('/Users//replace_me')"
      ]
    },
    {
      "cell_type": "code",
      "source": [
        "# importing the required modules\n",
        "import glob\n",
        "import pandas as pd"
      ],
      "metadata": {
        "id": "tyOZABsxAzeZ"
      },
      "execution_count": 2,
      "outputs": []
    },
    {
      "cell_type": "markdown",
      "source": [
        "**Read CSV Files**"
      ],
      "metadata": {
        "id": "iUYGV_fYV7Rf"
      }
    },
    {
      "cell_type": "code",
      "source": [
        "# excel files in the path\n",
        "file_list = glob.glob(\"Two CSV File/*.csv\")\n",
        "file_list"
      ],
      "metadata": {
        "colab": {
          "base_uri": "https://localhost:8080/"
        },
        "id": "s702mN4dA3Kd",
        "outputId": "836a4206-00c7-4801-f5cc-b8fad15b2708"
      },
      "execution_count": 3,
      "outputs": [
        {
          "output_type": "execute_result",
          "data": {
            "text/plain": [
              "['Two CSV File/rawdata.csv', 'Two CSV File/rawdata 1.csv']"
            ]
          },
          "metadata": {},
          "execution_count": 3
        }
      ]
    },
    {
      "cell_type": "markdown",
      "source": [
        "**Merge CSV Files**"
      ],
      "metadata": {
        "id": "IBaXvtrjV_sg"
      }
    },
    {
      "cell_type": "code",
      "source": [
        "# list of excel files we want to merge.\n",
        "# pd.read_excel(file_path) reads the\n",
        "# excel data into pandas dataframe.\n",
        "csv_list = []\n",
        "\n",
        "for file in file_list:\n",
        "\tcsv_list.append(pd.read_csv(file))"
      ],
      "metadata": {
        "id": "C9GUJxigCPD8"
      },
      "execution_count": 4,
      "outputs": []
    },
    {
      "cell_type": "code",
      "source": [
        "# concatenate all DataFrames in the list\n",
        "# into a single DataFrame, returns new\n",
        "# DataFrame.\n",
        "csv_merged = pd.concat(csv_list, ignore_index=True)"
      ],
      "metadata": {
        "id": "v8Eb6obrCUTJ"
      },
      "execution_count": 5,
      "outputs": []
    },
    {
      "cell_type": "markdown",
      "source": [
        "**Export Excel Files**"
      ],
      "metadata": {
        "id": "MF3TfFgqWFq8"
      }
    },
    {
      "cell_type": "code",
      "source": [
        "# exports the dataframe into excel file\n",
        "# with specified name.\n",
        "csv_merged.to_csv('RawData_Merged.csv', index=False)"
      ],
      "metadata": {
        "id": "BtgxFAbhUuj8"
      },
      "execution_count": 8,
      "outputs": []
    }
  ]
}